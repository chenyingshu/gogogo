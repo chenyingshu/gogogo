{
 "cells": [
  {
   "cell_type": "markdown",
   "id": "a75093e2",
   "metadata": {},
   "source": [
    "ref: https://towardsdatascience.com/a-tutorial-on-scraping-images-from-the-web-using-beautifulsoup-206a7633e948\n",
    "https://www.crummy.com/software/BeautifulSoup/bs4/doc.zh/"
   ]
  },
  {
   "cell_type": "markdown",
   "id": "a527bb39",
   "metadata": {},
   "source": [
    "# Breifing\n",
    "\n",
    "The scripts \n",
    "1. first explore with a instagram link witha target tag (i.e., 'ngautaukok');\n",
    "2. then from tag webpage, explore hot post, and get location (i.e., 'Lok Wah South Estate')\n",
    "3. finally explore the location instagram link, and get location's specific latitude and longitude.\n"
   ]
  },
  {
   "cell_type": "markdown",
   "id": "5c3cadc2",
   "metadata": {},
   "source": [
    "# Before everythin, Login Instagram First in the browser!\n",
    "\n",
    "You can run the following _login()_ script <br>\n",
    "or login via https://www.instagram.com/accounts/login/ in the browswer."
   ]
  },
  {
   "cell_type": "code",
   "execution_count": null,
   "id": "09f8e5f3",
   "metadata": {},
   "outputs": [],
   "source": [
    "# ref: https://github.com/softcoder24/insta_share\n",
    "from datetime import datetime, timedelta\n",
    "\n",
    "def login(username='YourUserNameOrEmail', password='YourPassword'):\n",
    "\n",
    "    link = 'https://www.instagram.com/accounts/login/'\n",
    "    login_url = 'https://www.instagram.com/accounts/login/ajax/'\n",
    "\n",
    "    time = int(datetime.now().timestamp())\n",
    "    response = requests.get(link)\n",
    "    csrf = response.cookies['csrftoken']\n",
    "    \n",
    "    payload = {\n",
    "        'username': username,\n",
    "        'enc_password': f'#PWD_INSTAGRAM_BROWSER:0:{time}:{password}',\n",
    "        'queryParams': {},\n",
    "        'optIntoOneTap': 'false'\n",
    "    }\n",
    "\n",
    "    login_header = {\n",
    "        \"User-Agent\": \"Mozilla/5.0 (Windows NT 6.1) AppleWebKit/537.36 (KHTML, like Gecko) Chrome/77.0.3865.120 Safari/537.36\",\n",
    "        \"X-Requested-With\": \"XMLHttpRequest\",\n",
    "        \"Referer\": \"https://www.instagram.com/accounts/login/\",\n",
    "        \"x-csrftoken\": csrf\n",
    "    }\n",
    "\n",
    "    login_response = requests.post(login_url, data=payload, headers=login_header)\n",
    "    json_data = json.loads(login_response.text)\n",
    "\n",
    "    if json_data[\"authenticated\"]:\n",
    "    if True:\n",
    "\n",
    "        print(\"login successful\")\n",
    "        cookies = login_response.cookies\n",
    "        cookie_jar = cookies.get_dict()\n",
    "        csrf_token = cookie_jar['csrftoken']\n",
    "        print(\"csrf_token: \", csrf_token)\n",
    "        session_id = cookie_jar['sessionid']\n",
    "        print(\"session_id: \", session_id)\n",
    "        \n",
    "    else:\n",
    "        print(\"login failed \", login_response.text)"
   ]
  },
  {
   "cell_type": "markdown",
   "id": "fb95e0ac",
   "metadata": {},
   "source": [
    "# -- Example Starts --"
   ]
  },
  {
   "cell_type": "code",
   "execution_count": 1,
   "id": "cc2b2255",
   "metadata": {},
   "outputs": [],
   "source": [
    "from bs4 import BeautifulSoup\n",
    "import requests\n",
    "import yaml\n",
    "import json"
   ]
  },
  {
   "cell_type": "markdown",
   "id": "96610c41",
   "metadata": {},
   "source": [
    "# Instagram with tag"
   ]
  },
  {
   "cell_type": "code",
   "execution_count": 2,
   "id": "1e864f42",
   "metadata": {},
   "outputs": [],
   "source": [
    "url = \"https://www.instagram.com/explore/tags/ngautaukok/\"\n",
    "html_page = requests.get(url, allow_redirects=True)\n",
    "soup = BeautifulSoup(html_page.content, 'html.parser')\n",
    "# print(soup.prettify())"
   ]
  },
  {
   "cell_type": "code",
   "execution_count": 3,
   "id": "03f190d0",
   "metadata": {},
   "outputs": [],
   "source": [
    "# ref: https://www.coder.work/article/5046952\n",
    "import json\n",
    "body = soup.find('body')\n",
    "script = body.find('script')\n",
    "# print(script.string)\n",
    "page_json = script.string.strip().replace('window._sharedData =', '').replace(';','')\n",
    "# print(page_json)\n",
    "data = json.loads(page_json)"
   ]
  },
  {
   "cell_type": "code",
   "execution_count": 4,
   "id": "71ea4170",
   "metadata": {},
   "outputs": [],
   "source": [
    "import yaml\n",
    "# print(yaml.dump(data, default_flow_style=False))"
   ]
  },
  {
   "cell_type": "code",
   "execution_count": 5,
   "id": "6d7154ae",
   "metadata": {},
   "outputs": [
    {
     "name": "stdout",
     "output_type": "stream",
     "text": [
      "dict_keys(['id', 'name', 'allow_following', 'is_following', 'is_top_media_only', 'profile_pic_url', 'edge_hashtag_to_media', 'edge_hashtag_to_top_posts', 'edge_hashtag_to_content_advisory', 'edge_hashtag_to_related_tags', 'edge_hashtag_to_null_state'])\n"
     ]
    }
   ],
   "source": [
    "print(data['entry_data']['TagPage'][0]['graphql']['hashtag'].keys())"
   ]
  },
  {
   "cell_type": "code",
   "execution_count": 6,
   "id": "08b1083a",
   "metadata": {},
   "outputs": [
    {
     "name": "stdout",
     "output_type": "stream",
     "text": [
      "#post with this tag:  6150\n",
      "Retrieved posts:  72\n"
     ]
    }
   ],
   "source": [
    "# Get all posts information\n",
    "entry_data = data['entry_data']['TagPage'][0]['graphql']['hashtag']\n",
    "num_post = entry_data['edge_hashtag_to_media']['count']\n",
    "hashtags = entry_data['edge_hashtag_to_media']['edges']\n",
    "print('#post with this tag: ', num_post)\n",
    "print('Retrieved posts: ', len(hashtags))"
   ]
  },
  {
   "cell_type": "code",
   "execution_count": 7,
   "id": "2e2ab7e6",
   "metadata": {},
   "outputs": [
    {
     "name": "stdout",
     "output_type": "stream",
     "text": [
      "# Hot posts: 9\n"
     ]
    }
   ],
   "source": [
    "# Handle hot posts\n",
    "entry_data = data['entry_data']['TagPage'][0]['graphql']['hashtag']\n",
    "hot_posts = entry_data['edge_hashtag_to_top_posts']['edges']\n",
    "print('# Hot posts:',len(hot_posts))"
   ]
  },
  {
   "cell_type": "code",
   "execution_count": 8,
   "id": "d47247d4",
   "metadata": {},
   "outputs": [],
   "source": [
    "import yaml\n",
    "# print(yaml.dump(hot_posts, default_flow_style=False))"
   ]
  },
  {
   "cell_type": "code",
   "execution_count": 9,
   "id": "2f33c961",
   "metadata": {},
   "outputs": [
    {
     "name": "stdout",
     "output_type": "stream",
     "text": [
      "dict_keys(['__typename', 'id', 'edge_media_to_caption', 'shortcode', 'edge_media_to_comment', 'taken_at_timestamp', 'dimensions', 'display_url', 'edge_liked_by', 'edge_media_preview_like', 'owner', 'thumbnail_src', 'thumbnail_resources', 'is_video', 'accessibility_caption'])\n",
      "This post get #likes:  165\n"
     ]
    }
   ],
   "source": [
    "post0 = hot_posts[0]['node']\n",
    "print(post0.keys())\n",
    "likes = post0['edge_liked_by']['count']\n",
    "print('This post get #likes: ', likes)"
   ]
  },
  {
   "cell_type": "code",
   "execution_count": 10,
   "id": "b7348acd",
   "metadata": {},
   "outputs": [
    {
     "name": "stdout",
     "output_type": "stream",
     "text": [
      "Max #likes:  308\n",
      "Most popular post:  https://www.instagram.com/p/CHDGYcYhDBi\n",
      "Photo url:  https://scontent-hkt1-1.cdninstagram.com/v/t51.2885-15/e35/122748670_867961336942173_7993839473005866760_n.jpg?_nc_ht=scontent-hkt1-1.cdninstagram.com&_nc_cat=109&_nc_ohc=MIvQAia5L-gAX8SOE0s&edm=ABZsPhsBAAAA&ccb=7-4&oh=599af8c33a45b0ebece340bf31f6780d&oe=6192167D&_nc_sid=4efc9f\n"
     ]
    }
   ],
   "source": [
    "# Get hot post with MOST likes\n",
    "max_likes = 0\n",
    "max_post = hot_posts[0]['node']\n",
    "max_shortcode = ''\n",
    "for hashtag in hot_posts:\n",
    "    post = hashtag['node']\n",
    "    shortcode = post['shortcode']\n",
    "    likes = post['edge_liked_by']['count']\n",
    "    if int(likes) > max_likes:\n",
    "        max_likes = int(likes)\n",
    "        max_post = post\n",
    "        max_shortcode = shortcode\n",
    "#     print('This post get #likes: ', likes)\n",
    "print('Max #likes: ', max_likes)\n",
    "print('Most popular post: ', 'https://www.instagram.com/p/'+max_shortcode)\n",
    "\n",
    "photo_src = max_post['display_url']\n",
    "print('Photo url: ', photo_src)"
   ]
  },
  {
   "cell_type": "markdown",
   "id": "d1ad564a",
   "metadata": {},
   "source": [
    "## Explore hot post"
   ]
  },
  {
   "cell_type": "code",
   "execution_count": 11,
   "id": "4225b6f2",
   "metadata": {},
   "outputs": [],
   "source": [
    "url = \"https://www.instagram.com/p/CHDGYcYhDBi/\"\n",
    "html_page = requests.get(url, allow_redirects=True)\n",
    "soup = BeautifulSoup(html_page.content, 'html.parser')\n",
    "# print(soup.prettify())"
   ]
  },
  {
   "cell_type": "code",
   "execution_count": 12,
   "id": "cd4e1fc2",
   "metadata": {},
   "outputs": [
    {
     "name": "stdout",
     "output_type": "stream",
     "text": [
      "'@context': http://schema.org\n",
      "'@type': ImageObject\n",
      "author:\n",
      "  '@type': Person\n",
      "  alternateName: '@appleyangie'\n",
      "  mainEntityofPage:\n",
      "    '@id': https://www.instagram.com/appleyangie/\n",
      "    '@type': ProfilePage\n",
      "caption: \"Me, myself and I \\U0001F300\\U0001F300\\U0001F300\\n\\U0001F4F8: @yohjieye \\n\\\n",
      "  .\\n.\\n.\\n.\\n.\\n.\\n.\\n.\\n#hongkong #homekong #discoverhongkong #hkig #explorehk #lokwahestate\\\n",
      "  \\ #ngautaukok #insidehongkong #visualhongkong #hkinstagram #everydayhongkong #nikeoffwhite\\\n",
      "  \\ #summervibes #photography #citypicz\"\n",
      "comment:\n",
      "- '@type': Comment\n",
      "  author:\n",
      "    '@type': Person\n",
      "    alternateName: '@appleyangie'\n",
      "    mainEntityofPage:\n",
      "      '@id': https://www.instagram.com/appleyangie/\n",
      "      '@type': ProfilePage\n",
      "  text: \"@jiggawoo \\U0001F31D\"\n",
      "- '@type': Comment\n",
      "  author:\n",
      "    '@type': Person\n",
      "    alternateName: '@jay.jaewoo.seo'\n",
      "    mainEntityofPage:\n",
      "      '@id': https://www.instagram.com/jay.jaewoo.seo/\n",
      "      '@type': ProfilePage\n",
      "  text: \"@appleyangie aaaaw it\\u2019s ok we are all friends it\\u2019s fun! \\U0001F618\"\n",
      "commentCount: '13'\n",
      "contentLocation:\n",
      "  '@type': Place\n",
      "  address:\n",
      "    '@type': PostalAddress\n",
      "    addressCountry:\n",
      "      '@type': Country\n",
      "      name: HK\n",
      "    addressLocality: Kwun Tong\n",
      "  mainEntityofPage:\n",
      "    '@id': https://www.instagram.com/explore/locations/303526563885357/lok-wah-south-estate/\n",
      "    '@type': CollectionPage\n",
      "  name: Lok Wah South Estate\n",
      "description: \"308 Likes, 13 Comments - \\U0001F34E Angie (@appleyangie) on Instagram:\\\n",
      "  \\ \\u201CMe, myself and I \\U0001F300\\U0001F300\\U0001F300 \\U0001F4F8: @yohjieye  .\\\n",
      "  \\ . . . . . . . #hongkong #homekong #discoverhongkong #hkig\\u2026\\u201D\"\n",
      "interactionStatistic:\n",
      "  '@type': InteractionCounter\n",
      "  interactionType:\n",
      "    '@type': LikeAction\n",
      "  userInteractionCount: '308'\n",
      "mainEntityofPage:\n",
      "  '@id': https://www.instagram.com/p/CHDGYcYhDBi/\n",
      "  '@type': ItemPage\n",
      "name: \"\\U0001F34E Angie on Instagram: \\u201CMe, myself and I \\U0001F300\\U0001F300\\U0001F300\\\n",
      "  \\ \\U0001F4F8: @yohjieye  . . . . . . . . #hongkong #homekong #discoverhongkong #hkig\\\n",
      "  \\ #explorehk #lokwahestate #ngautaukok\\u2026\\u201D\"\n",
      "representativeOfPage: http://schema.org/True\n",
      "uploadDate: '2020-11-01T12:38:43'\n",
      "\n"
     ]
    }
   ],
   "source": [
    "script = soup.find('script', type='application/ld+json')\n",
    "# print(script)\n",
    "page_json = script.string.strip()\n",
    "# print(page_json)\n",
    "data = json.loads(page_json)\n",
    "# print(data)\n",
    "print(yaml.dump(data, default_flow_style=False))"
   ]
  },
  {
   "cell_type": "code",
   "execution_count": 13,
   "id": "bd0d8125",
   "metadata": {},
   "outputs": [
    {
     "name": "stdout",
     "output_type": "stream",
     "text": [
      "Location in this post:  Lok Wah South Estate \n",
      "Url:  https://www.instagram.com/explore/locations/303526563885357/lok-wah-south-estate/\n"
     ]
    }
   ],
   "source": [
    "try:\n",
    "    name = data['contentLocation']['name']\n",
    "    address_url = data['contentLocation']['mainEntityofPage']['@id']\n",
    "    print(\"Location in this post: \", name, \"\\nUrl: \", address_url)\n",
    "except:\n",
    "    print(\"No location in this post.\")"
   ]
  },
  {
   "cell_type": "markdown",
   "id": "595e5d8d",
   "metadata": {},
   "source": [
    "# Instagram with location "
   ]
  },
  {
   "cell_type": "code",
   "execution_count": 14,
   "id": "c91d9286",
   "metadata": {
    "scrolled": true
   },
   "outputs": [],
   "source": [
    "url = 'https://www.instagram.com/explore/locations/303526563885357/lok-wah-south-estate/'\n",
    "html_page = requests.get(url, allow_redirects=True)\n",
    "soup = BeautifulSoup(html_page.content, 'html.parser')\n",
    "# print(soup.prettify())"
   ]
  },
  {
   "cell_type": "code",
   "execution_count": 16,
   "id": "92a42e21",
   "metadata": {},
   "outputs": [],
   "source": [
    "# <meta content=\"22.3205759\" property=\"place:location:latitude\">\n",
    "# <meta content=\"114.2229965\" property=\"place:location:longitude\">\n",
    "latitude = soup.find('meta', property=\"place:location:latitude\")\n",
    "# print(latitude) # not work"
   ]
  },
  {
   "cell_type": "code",
   "execution_count": 17,
   "id": "6bfdf62e",
   "metadata": {},
   "outputs": [
    {
     "name": "stdout",
     "output_type": "stream",
     "text": [
      "Retrieve location (latitude, longitude): (22.3206,114.2230)\n"
     ]
    }
   ],
   "source": [
    "metas = soup.find_all('meta')\n",
    "# print(metas)\n",
    "latitude = 0.\n",
    "longitude = 0.\n",
    "image_urls = []\n",
    "for meta in metas:   \n",
    "    if meta.get('property') == \"place:location:latitude\":\n",
    "        latitude = float(meta.get('content'))\n",
    "    if meta.get('property') == \"place:location:longitude\":\n",
    "        longitude = float(meta.get('content'))\n",
    "        \n",
    "print(\"Retrieve location (latitude, longitude): (%.4f,%.4f)\" %(latitude, longitude))"
   ]
  },
  {
   "cell_type": "code",
   "execution_count": 18,
   "id": "04590b3f",
   "metadata": {},
   "outputs": [],
   "source": [
    "body = soup.find('body')\n",
    "script = body.find('script')\n",
    "# print(script.string)\n",
    "page_json = script.string.strip().replace('window._sharedData =', '').replace(';','')\n",
    "# print(page_json)\n",
    "data = json.loads(page_json)\n",
    "# print(yaml.dump(data, default_flow_style=False))"
   ]
  },
  {
   "cell_type": "code",
   "execution_count": 19,
   "id": "66c5d142",
   "metadata": {},
   "outputs": [
    {
     "name": "stdout",
     "output_type": "stream",
     "text": [
      "dict_keys(['id', 'name', 'has_public_page', 'lat', 'lng', 'slug', 'blurb', 'website', 'phone', 'primary_alias_on_fb', 'address_json', 'profile_pic_url', 'edge_location_to_media', 'edge_location_to_top_posts', 'directory'])\n",
      "Number of posts in this location:  293\n"
     ]
    }
   ],
   "source": [
    "entry_data = data['entry_data']['LocationsPage'][0]['graphql']['location']\n",
    "num_loc_post = entry_data['edge_location_to_media']['count']\n",
    "print(entry_data.keys())\n",
    "print('Number of posts in this location: ', num_loc_post)"
   ]
  },
  {
   "cell_type": "code",
   "execution_count": 20,
   "id": "7dffdf4e",
   "metadata": {},
   "outputs": [
    {
     "name": "stdout",
     "output_type": "stream",
     "text": [
      "Retreived hot posts:  48\n"
     ]
    }
   ],
   "source": [
    "hot_posts = entry_data['edge_location_to_top_posts']['edges']\n",
    "print('Retreived hot posts: ', len(hot_posts))"
   ]
  },
  {
   "cell_type": "code",
   "execution_count": 21,
   "id": "7170c96b",
   "metadata": {},
   "outputs": [
    {
     "name": "stdout",
     "output_type": "stream",
     "text": [
      "Max #likes:  3989\n",
      "Most popular post:  https://www.instagram.com/p/CILS2t3A_Ut\n",
      "Photo url:  https://scontent-hkt1-2.cdninstagram.com/v/t51.2885-15/e35/p1080x1080/128194592_1193867581032667_2838567133719320515_n.jpg?_nc_ht=scontent-hkt1-2.cdninstagram.com&_nc_cat=107&_nc_ohc=s71aj8t0aH8AX8L-rfe&edm=ALLxIhEBAAAA&ccb=7-4&oh=438ff3cca0bc471a71e751ca0b18a64d&oe=6193077C&_nc_sid=b2a057\n"
     ]
    }
   ],
   "source": [
    "# Get hot post with MOST likes\n",
    "max_likes = 0\n",
    "max_post = hot_posts[0]['node']\n",
    "max_shortcode = ''\n",
    "for hashtag in hot_posts:\n",
    "    post = hashtag['node']\n",
    "    shortcode = post['shortcode']\n",
    "    likes = post['edge_liked_by']['count']\n",
    "    if int(likes) > max_likes:\n",
    "        max_likes = int(likes)\n",
    "        max_post = post\n",
    "        max_shortcode = shortcode\n",
    "#     print('This post get #likes: ', likes)\n",
    "print('Max #likes: ', max_likes)\n",
    "print('Most popular post: ', 'https://www.instagram.com/p/'+max_shortcode)\n",
    "\n",
    "photo_src = max_post['display_url']\n",
    "print('Photo url: ', photo_src)"
   ]
  },
  {
   "cell_type": "code",
   "execution_count": null,
   "id": "3cdc587c",
   "metadata": {},
   "outputs": [],
   "source": []
  }
 ],
 "metadata": {
  "kernelspec": {
   "display_name": "Python 3",
   "language": "python",
   "name": "python3"
  },
  "language_info": {
   "codemirror_mode": {
    "name": "ipython",
    "version": 3
   },
   "file_extension": ".py",
   "mimetype": "text/x-python",
   "name": "python",
   "nbconvert_exporter": "python",
   "pygments_lexer": "ipython3",
   "version": "3.8.8"
  }
 },
 "nbformat": 4,
 "nbformat_minor": 5
}
